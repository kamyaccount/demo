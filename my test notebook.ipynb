{
    "cells": [
        {
            "cell_type": "code",
            "execution_count": 1,
            "metadata": {},
            "outputs": [
                {
                    "data": {
                        "text/html": "<div>\n<style scoped>\n    .dataframe tbody tr th:only-of-type {\n        vertical-align: middle;\n    }\n\n    .dataframe tbody tr th {\n        vertical-align: top;\n    }\n\n    .dataframe thead th {\n        text-align: right;\n    }\n</style>\n<table border=\"1\" class=\"dataframe\">\n  <thead>\n    <tr style=\"text-align: right;\">\n      <th></th>\n      <th>Date</th>\n      <th>Description</th>\n      <th>Original Description</th>\n      <th>Amount</th>\n      <th>Transaction Type</th>\n      <th>Category</th>\n      <th>Account Name</th>\n      <th>Labels</th>\n      <th>Notes</th>\n    </tr>\n  </thead>\n  <tbody>\n    <tr>\n      <th>0</th>\n      <td>9/24/2017</td>\n      <td>Honda</td>\n      <td>HONDA WORLD WESTMINSTE WESTMINSTER CA</td>\n      <td>354.38</td>\n      <td>debit</td>\n      <td>Service &amp; Parts</td>\n      <td>Citi Dividend World MasterCard</td>\n      <td>NaN</td>\n      <td>NaN</td>\n    </tr>\n    <tr>\n      <th>1</th>\n      <td>3/11/2017</td>\n      <td>Honda</td>\n      <td>HONDA WORLD WESTMINSTE WESTMINSTER CA</td>\n      <td>289.08</td>\n      <td>debit</td>\n      <td>Service &amp; Parts</td>\n      <td>5937 Credit Card</td>\n      <td>NaN</td>\n      <td>NaN</td>\n    </tr>\n    <tr>\n      <th>2</th>\n      <td>10/02/2016</td>\n      <td>Honda</td>\n      <td>HONDA WORLD WESTMINSTER CA0000920774 AUTO DEAL...</td>\n      <td>510.00</td>\n      <td>debit</td>\n      <td>Service &amp; Parts</td>\n      <td>Blue for Students</td>\n      <td>NaN</td>\n      <td>NaN</td>\n    </tr>\n    <tr>\n      <th>3</th>\n      <td>10/20/2015</td>\n      <td>Honda</td>\n      <td>HONDA WORLD WESTMINSWESTMINSTER00858698    AUT...</td>\n      <td>1673.05</td>\n      <td>debit</td>\n      <td>Service &amp; Parts</td>\n      <td>Blue for Students</td>\n      <td>NaN</td>\n      <td>NaN</td>\n    </tr>\n    <tr>\n      <th>4</th>\n      <td>5/20/2015</td>\n      <td>Honda</td>\n      <td>HONDA WORLD WESTMINSTE WESTMINSTER CA</td>\n      <td>243.48</td>\n      <td>debit</td>\n      <td>Service &amp; Parts</td>\n      <td>5937 Credit Card</td>\n      <td>NaN</td>\n      <td>NaN</td>\n    </tr>\n  </tbody>\n</table>\n</div>",
                        "text/plain": "         Date Description                               Original Description  \\\n0   9/24/2017       Honda              HONDA WORLD WESTMINSTE WESTMINSTER CA   \n1   3/11/2017       Honda              HONDA WORLD WESTMINSTE WESTMINSTER CA   \n2  10/02/2016       Honda  HONDA WORLD WESTMINSTER CA0000920774 AUTO DEAL...   \n3  10/20/2015       Honda  HONDA WORLD WESTMINSWESTMINSTER00858698    AUT...   \n4   5/20/2015       Honda              HONDA WORLD WESTMINSTE WESTMINSTER CA   \n\n    Amount Transaction Type         Category                    Account Name  \\\n0   354.38            debit  Service & Parts  Citi Dividend World MasterCard   \n1   289.08            debit  Service & Parts                5937 Credit Card   \n2   510.00            debit  Service & Parts               Blue for Students   \n3  1673.05            debit  Service & Parts               Blue for Students   \n4   243.48            debit  Service & Parts                5937 Credit Card   \n\n   Labels  Notes  \n0     NaN    NaN  \n1     NaN    NaN  \n2     NaN    NaN  \n3     NaN    NaN  \n4     NaN    NaN  "
                    },
                    "execution_count": 1,
                    "metadata": {},
                    "output_type": "execute_result"
                }
            ],
            "source": "# The code was removed by Watson Studio for sharing."
        },
        {
            "cell_type": "code",
            "execution_count": null,
            "metadata": {},
            "outputs": [],
            "source": ""
        }
    ],
    "metadata": {
        "kernelspec": {
            "display_name": "Python 3.6",
            "language": "python",
            "name": "python3"
        },
        "language_info": {
            "codemirror_mode": {
                "name": "ipython",
                "version": 3
            },
            "file_extension": ".py",
            "mimetype": "text/x-python",
            "name": "python",
            "nbconvert_exporter": "python",
            "pygments_lexer": "ipython3",
            "version": "3.6.9"
        }
    },
    "nbformat": 4,
    "nbformat_minor": 1
}